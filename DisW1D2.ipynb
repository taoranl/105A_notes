{
 "cells": [
  {
   "cell_type": "markdown",
   "metadata": {},
   "source": [
    "$N = (-1)^s 2^{c-1023} (1+f)$\n",
    "\n",
    "Minimum: c = 1, f = 0\n",
    "\n",
    "$ N_{\\min} = 2^{-1022} \\cdot (1+ 0) $\n",
    "\n",
    "Maximum:$c = 2046$,  $f = 1-2^{-52}$ --> the 52 digits of f are all 1's\n",
    "\n",
    "$ N_{\\max} = 2^{1023} \\cdot (2 - 2^{-52})$"
   ]
  },
  {
   "cell_type": "markdown",
   "metadata": {},
   "source": [
    "### Machine epsilon\n",
    "\n",
    "$\\epsilon_{machine}$\n",
    "\n",
    "The smallest number such that 1+$\\epsilon \\neq 1$\n",
    "\n",
    "$\\epsilon = 2^{-52} \\approx 10^{-16}$"
   ]
  },
  {
   "cell_type": "markdown",
   "metadata": {},
   "source": [
    "### Other issues\n",
    "\n",
    "$ax^2 + bx + c = 0$ -> $x=\\frac{-b \\pm \\sqrt{b^2-4ac}}{2a}$\n",
    "* there is problem if we choose plus sign on the top\n",
    "\n",
    "if $p_1 = 100, p^*_2 = 101, p_2 = 100.01$\n",
    "\n",
    "##### using addition\n",
    "\n",
    "$p_1 + p^*_2 = 201$\n",
    "\n",
    "$p_1 + p_2 = 200$\n",
    "\n",
    "relative error = $\\frac{1}{200.01}$\n",
    "\n",
    "##### using substraction\n",
    "\n",
    "$p^*_2 - p_1 = 1$\n",
    "\n",
    "$p_2 - p_1 = 0.01$\n",
    "\n",
    "relative error = $\\frac{1}{0.01} = 100$\n",
    "\n",
    "##### back to the quadric equation\n",
    "* if we rationalize the numerator, it will become \"4ac\". so there is less error (on the bottom, it's just adding)"
   ]
  },
  {
   "cell_type": "markdown",
   "metadata": {},
   "source": [
    "### Polynomial\n",
    "\n",
    "$\\left| \\frac{y-fl(y)}{y}\\right| \\leq .5 \\times 10^{1-k}$\n",
    "\n",
    "* We want to minimize the number of operations we perform\n",
    "\n",
    "$P(x) = a_n x^n + ... + a_0$\n",
    "\n",
    "What is P(b) where b is a number?\n",
    "\n",
    "if we just plug in b, it takes $\\frac{n^2+n}{2}$ multiplications and n additions to evaluate P(b)\n"
   ]
  },
  {
   "cell_type": "markdown",
   "metadata": {},
   "source": [
    "##### Horner Method\n",
    "\n",
    "$a_0 + x(a_1 + x(a_2 + ... + x(a_{n-1}+a_n x))...)$\n",
    "\n",
    "Takes n multiplications and n additions\n"
   ]
  },
  {
   "cell_type": "markdown",
   "metadata": {},
   "source": [
    "### Rates of convergence\n",
    "\n",
    "Suppose $\\{\\beta_n\\}_{n=1}^\\infty$, $\\beta_n > 0$ is a sequence known to converge to zero, and $\\{\\alpha_n\\}_{n=1}^\\infty$ converges to a number $\\alpha$.  If a positive constant $K$ exists such that\n",
    "$$ |\\alpha_n - \\alpha| \\leq K \\beta_n, $$\n",
    "\n",
    "the we say that $\\{\\alpha_n\\}_{n=1}^\\infty$ converges to $\\alpha$ with __rate__ (or __order__) $O(\\beta_n)$.\n",
    "\n",
    "* L.H.S. converges faster than the R.H.S."
   ]
  },
  {
   "cell_type": "markdown",
   "metadata": {},
   "source": [
    "##### Example\n",
    "\n",
    "$x_n = \\frac{n-1}{n+2} \\to 1$\n",
    "\n",
    "$\\left| \\frac{n-1}{n+2} - 1\\right| = \\left| \\frac{n-1-(n+2)}{n+2} - 1\\right| = \\left| \\frac{-3}{n+2}\\right| \\leq 3 \\frac{1}{n} = O(\\frac{1}{n})$\n"
   ]
  },
  {
   "cell_type": "markdown",
   "metadata": {},
   "source": [
    "### Rates of convergence for functions\n",
    "\n",
    "Suppose that for a positive function $g(h) > 0$ we have $\\lim_{h\\to 0} g(h) = 0$.  We say that $f(h)$ converges to $L$ at $O(g(h))$ (equiv. $f(h) = L + O(g(h))$) if\n",
    "\n",
    "$ |f(h) - L| \\leq K g(h) $\n",
    "\n",
    "for some positive constant K"
   ]
  },
  {
   "cell_type": "markdown",
   "metadata": {},
   "source": [
    "##### Example\n",
    "$ f(h) = \\frac{\\sin(h) - \\sin(0)}{h} $\n",
    "\n",
    "* on lecture notes W1L2"
   ]
  },
  {
   "cell_type": "markdown",
   "metadata": {},
   "source": [
    "##### Problem\n",
    "\n",
    "Suppose $p(h) \\to 0$ as $h \\to 0$ with order O(h), and $f(h) \\to 0$ as $h \\to 0$ with order O(h)\n",
    "\n",
    "How fast does $f p \\to 0$ ?"
   ]
  },
  {
   "cell_type": "markdown",
   "metadata": {},
   "source": [
    "##### Sol: (not true if f and p converge to different numbers instead of zero)\n",
    "\n",
    "by defination, $|f(h)| \\leq K_1 h$ and $|p(h)| \\leq K_2 h$\n",
    "\n",
    "$|f p| \\leq K_1 K_2 h^2$\n",
    "\n",
    "$\\implies f p \\to 0$ as $h \\to 0$ at $O(h^2)$"
   ]
  },
  {
   "cell_type": "markdown",
   "metadata": {},
   "source": [
    "## Taylor's Thm\n",
    "\n",
    "Suppose $f \\in C^n[a,b]$, and that $f^{(n+1)}$ exists on $[a,b]$, and $x_0 \\in [a,b]$.  For every $x \\in [a,b]$, there exists a number $\\xi(x)$ between $x_0$ and $x$ with\n",
    "\n",
    "$$ f(x) = P_n(x) + R_n(x),$$\n",
    "\n",
    "where\n",
    "\n",
    "$$ P_n(x) = f(x_0) + f'(x_0)(x-x_0) + \\frac{f''(x_0)}{2!} (x-x_0)^2 + \\cdots + \\frac{f^{(n)}(x_0)}{n!} (x-x_0)^n,$$\n",
    "\n",
    "and\n",
    "\n",
    "$$ R_n(x) = \\frac{f^{(n+1)}(\\xi(x))}{(n+1)!} (x-x_0)^{n+1}. $$"
   ]
  },
  {
   "cell_type": "markdown",
   "metadata": {},
   "source": [
    "## Using Big O notation to denote R_n\n",
    "\n",
    "As long as $f^{n+1}(\\xi)$ can be bounded, letting h = $x-x_0$\n",
    "\n",
    "then $R_n(x) = O(h^{n+1})$\n",
    "\n",
    "* because the rest of the equation can be considered as a constant"
   ]
  }
 ],
 "metadata": {
  "kernelspec": {
   "display_name": "Python 3",
   "language": "python",
   "name": "python3"
  },
  "language_info": {
   "codemirror_mode": {
    "name": "ipython",
    "version": 3
   },
   "file_extension": ".py",
   "mimetype": "text/x-python",
   "name": "python",
   "nbconvert_exporter": "python",
   "pygments_lexer": "ipython3",
   "version": "3.6.2"
  }
 },
 "nbformat": 4,
 "nbformat_minor": 2
}
