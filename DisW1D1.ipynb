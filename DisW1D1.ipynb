{
 "cells": [
  {
   "cell_type": "markdown",
   "metadata": {},
   "source": [
    "#### Definition\n",
    "\n",
    "Let $f$ be a function defined on a set $X$ of real numbers and $x_0 \\in X$.  Then $f$ is _continuous_ at $x_0$ if\n",
    "\n",
    "$$ \\lim_{x \\to x_0} f(x) = f(x_0) $$  \n",
    "\n",
    "The set of all continuous functions defined on the set $X$ is denoted by $C(X)$ ($C[a,b]$ or $C(a,b]$ if $X$ is an interval)."
   ]
  },
  {
   "cell_type": "markdown",
   "metadata": {},
   "source": [
    "# Limits and Continuty - epsilon-delta defination\n",
    "A function is _continuous_ at a point $x_0$ if for any $\\epsilon$>0\n",
    "\n",
    "there exists some $\\delta$>0 such that if\n",
    "\n",
    "$$  \\left| x - x_0\\right| < \\delta $$ then $$ \\left| f(x) - f(x_0) \\right| < \\epsilon$$\n"
   ]
  },
  {
   "cell_type": "markdown",
   "metadata": {},
   "source": [
    "# Example\n",
    "f(x) = $x^2$ want to show f is continuous at 1\n",
    "\n",
    "Let $\\epsilon$ > 0 $$ \\left| x^2 -1 \\right| = \\left| x-1 \\right| \\left| x+1 \\right|$$\n",
    "\n",
    "suppose first that $\\delta < 1$\n",
    "\n",
    "then |x-1|<1, so $$|x+1|\\leqslant 3$$\n",
    "\n",
    "Let $\\delta$ < $\\epsilon$/3\n",
    "\n",
    "Then $$ \\left| f(x) - f(x_0) \\right| = |x^2 - 1| = |x-1| |x+1| < \\epsilon/3 \\times 3 = \\epsilon$$"
   ]
  },
  {
   "cell_type": "markdown",
   "metadata": {},
   "source": [
    "# Theorem\n",
    "\n",
    "f is continuous if for any sequence $x_n$ $\\to$ $x_0$, $f(x_n)$ $\\to$ $f(x_0)$"
   ]
  },
  {
   "cell_type": "markdown",
   "metadata": {},
   "source": [
    "# Intermediate Value Theorem\n",
    "\n",
    "If f is continuous on [a,b], and f(a) $\\leqslant$ d $\\leqslant$ f(b),\n",
    "\n",
    "then there is some constant c $\\in$ [a,b] such that f(c) = d"
   ]
  },
  {
   "cell_type": "markdown",
   "metadata": {},
   "source": [
    "# Example\n",
    "\n",
    "f(x) = cos(x)\n",
    "\n",
    "f is cont on [0,$\\pi$]\n",
    "\n",
    "f(0) = 1\n",
    "\n",
    "f($\\pi$) = -1\n",
    "\n",
    "so f has a root in [0,$\\pi$]"
   ]
  },
  {
   "cell_type": "markdown",
   "metadata": {},
   "source": [
    "# Mean Value Theorem\n",
    "\n",
    "If f is differentiable on (a,b) and continuous on [a,b],\n",
    "\n",
    "then there is some c in [a,b] such that\n",
    "\n",
    "$$f'(c) = \\frac{f(b) - f(a)}{b-a}$$"
   ]
  },
  {
   "cell_type": "markdown",
   "metadata": {},
   "source": [
    "# Integration\n",
    "\n",
    "$$ \\int_a^b f(x) dx = \\lim_{\\max \\Delta x_i \\to 0} \\sum_{i=1}^n f(\\bar x_i) \\Delta x_i,$$\n",
    "\n",
    "* find the area under the graph"
   ]
  },
  {
   "cell_type": "markdown",
   "metadata": {},
   "source": [
    "* From the lecture notes W0L1\n",
    "* If the function is bounded, $R_n$ can be ignored\n",
    "\n",
    "\n",
    "# Theorem (Taylor's Theorem)\n",
    "\n",
    "Suppose $f \\in C^n[a,b]$, and that $f^{(n+1)}$ exists on $[a,b]$, and $x_0 \\in [a,b]$.  For every $x \\in [a,b]$, there exists a number $\\xi(x)$ between $x_0$ and $x$ with\n",
    "\n",
    "$$ f(x) = P_n(x) + R_n(x),$$\n",
    "\n",
    "where\n",
    "\n",
    "$$ P_n(x) = f(x_0) + f'(x_0)(x-x_0) + \\frac{f''(x_0)}{2!} (x-x_0)^2 + \\cdots + \\frac{f^{(n)}(x_0)}{n!} (x-x_0)^n,$$\n",
    "\n",
    "and\n",
    "\n",
    "$$ R_n(x) = \\frac{f^{(n+1)}(\\xi(x))}{(n+1)!} (x-x_0)^{n+1}. $$"
   ]
  },
  {
   "cell_type": "markdown",
   "metadata": {},
   "source": [
    "# Numbers stored in computer\n",
    "\n",
    "64 bits: \n",
    "    1 - sign\n",
    "    next 11 digits - specify exponent\n",
    "    next 52 digits - specify fraction\n",
    "\n",
    "$$N = (-1)^s 2^{c-1023} (1+f)$$\n",
    "\n",
    "where f is some number (in base 2) represented by last 52 digits\n",
    "\n",
    "### Maximum and Minimum\n",
    "\n",
    "$$ N_{\\min} = 2^{-1022} \\cdot (1+ 0) $$\n",
    "\n",
    "$$ N_{\\max} = 2^{1023} \\cdot (2 - 2^{-52})$$"
   ]
  },
  {
   "cell_type": "markdown",
   "metadata": {},
   "source": [
    "##### Question: What is the smallest number N such that given a, a+N != 2\n",
    "Answer: It depends\n",
    "\n",
    "Question: What if a = 1?"
   ]
  },
  {
   "cell_type": "code",
   "execution_count": 5,
   "metadata": {},
   "outputs": [
    {
     "name": "stdout",
     "output_type": "stream",
     "text": [
      "2.22044604925e-16\n",
      "1.30614473485e-16\n",
      "1.11022302463e-16\n"
     ]
    }
   ],
   "source": [
    "import numpy as np\n",
    "eps = np.finfo(float).eps\n",
    "print(1*eps)\n",
    "print(1*eps/1.7)\n",
    "print(1*eps/2)"
   ]
  },
  {
   "cell_type": "markdown",
   "metadata": {},
   "source": [
    "* if you need a number which is greater than 1, choose c > 1023"
   ]
  },
  {
   "cell_type": "markdown",
   "metadata": {},
   "source": [
    "### Absolute Error\n",
    "$$|p^* - p|$$ where $p^*$ is some approximation of p\n",
    "### Relative Error\n",
    "$$\\frac{|p^* - p|}{|p|}$$ \n",
    "\n",
    "#### Question\n",
    "If you round using k digits what is the maximum relative error between $p^*$ - the rounded unmber, and p\n",
    "$$\\frac{|p^* - p|}{|p|} \\leqslant 5\\times 10^{1-k}$$ "
   ]
  }
 ],
 "metadata": {
  "kernelspec": {
   "display_name": "Python 3",
   "language": "python",
   "name": "python3"
  },
  "language_info": {
   "codemirror_mode": {
    "name": "ipython",
    "version": 3
   },
   "file_extension": ".py",
   "mimetype": "text/x-python",
   "name": "python",
   "nbconvert_exporter": "python",
   "pygments_lexer": "ipython3",
   "version": "3.6.2"
  }
 },
 "nbformat": 4,
 "nbformat_minor": 2
}
